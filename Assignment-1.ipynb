{
 "cells": [
  {
   "cell_type": "code",
   "execution_count": 2,
   "id": "9e5b1df6",
   "metadata": {},
   "outputs": [
    {
     "data": {
      "text/plain": [
       "'What is 7 to the power of 4?'"
      ]
     },
     "execution_count": 2,
     "metadata": {},
     "output_type": "execute_result"
    }
   ],
   "source": [
    "\"\"\"What is 7 to the power of 4?\"\"\""
   ]
  },
  {
   "cell_type": "code",
   "execution_count": 3,
   "id": "fb1909a2",
   "metadata": {},
   "outputs": [
    {
     "data": {
      "text/plain": [
       "2401"
      ]
     },
     "execution_count": 3,
     "metadata": {},
     "output_type": "execute_result"
    }
   ],
   "source": [
    "7**4"
   ]
  },
  {
   "cell_type": "code",
   "execution_count": 4,
   "id": "f483e8d9",
   "metadata": {},
   "outputs": [
    {
     "data": {
      "text/plain": [
       "' Given the variables:**\\n\\nplanet = \"Earth\"\\ndiameter = 12742\\n** Use .format() to print the following string: **'"
      ]
     },
     "execution_count": 4,
     "metadata": {},
     "output_type": "execute_result"
    }
   ],
   "source": [
    "''' Given the variables:**\n",
    "\n",
    "planet = \"Earth\"\n",
    "diameter = 12742\n",
    "** Use .format() to print the following string: **'''"
   ]
  },
  {
   "cell_type": "code",
   "execution_count": 6,
   "id": "a8074e98",
   "metadata": {},
   "outputs": [],
   "source": [
    "planet = \"Earth\"\n",
    "diameter = 12742"
   ]
  },
  {
   "cell_type": "code",
   "execution_count": 7,
   "id": "59eb69eb",
   "metadata": {},
   "outputs": [
    {
     "data": {
      "text/plain": [
       "'The diameter Earth is 12742 kilometers'"
      ]
     },
     "execution_count": 7,
     "metadata": {},
     "output_type": "execute_result"
    }
   ],
   "source": [
    "'The diameter {} is {} kilometers'.format(planet,diameter)"
   ]
  },
  {
   "cell_type": "code",
   "execution_count": 8,
   "id": "08cb3caa",
   "metadata": {},
   "outputs": [
    {
     "data": {
      "text/plain": [
       "'\\nGiven this nested list, use indexing to grab the word \"hello\" **\\n'"
      ]
     },
     "execution_count": 8,
     "metadata": {},
     "output_type": "execute_result"
    }
   ],
   "source": [
    "\"\"\"\n",
    "Given this nested list, use indexing to grab the word \"hello\" **\n",
    "\"\"\""
   ]
  },
  {
   "cell_type": "code",
   "execution_count": 10,
   "id": "fa5e5dd4",
   "metadata": {},
   "outputs": [],
   "source": [
    "lst = [1,2,[3,4],[5,[100,200,['hello']],23,11],1,7]"
   ]
  },
  {
   "cell_type": "code",
   "execution_count": 11,
   "id": "ea7daabd",
   "metadata": {},
   "outputs": [
    {
     "data": {
      "text/plain": [
       "['hello']"
      ]
     },
     "execution_count": 11,
     "metadata": {},
     "output_type": "execute_result"
    }
   ],
   "source": [
    "lst[3][1][2]"
   ]
  },
  {
   "cell_type": "code",
   "execution_count": 14,
   "id": "3878328c",
   "metadata": {},
   "outputs": [],
   "source": [
    "d = {'k1':[1,2,3,{'tricky':['oh','man','inception',{'target':[1,2,3,'hello']}]}]}"
   ]
  },
  {
   "cell_type": "code",
   "execution_count": 17,
   "id": "bf991905",
   "metadata": {},
   "outputs": [
    {
     "data": {
      "text/plain": [
       "'hello'"
      ]
     },
     "execution_count": 17,
     "metadata": {},
     "output_type": "execute_result"
    }
   ],
   "source": [
    "d['k1'][3]['tricky'][3]['target'][3]"
   ]
  },
  {
   "cell_type": "code",
   "execution_count": 18,
   "id": "60e17334",
   "metadata": {},
   "outputs": [
    {
     "data": {
      "text/plain": [
       "'\\n** Create a function that grabs the email website domain from a string in the form: **\\n'"
      ]
     },
     "execution_count": 18,
     "metadata": {},
     "output_type": "execute_result"
    }
   ],
   "source": [
    "\"\"\"\n",
    "** Create a function that grabs the email website domain from a string in the form: **\n",
    "\"\"\""
   ]
  },
  {
   "cell_type": "code",
   "execution_count": 21,
   "id": "3ce170a0",
   "metadata": {},
   "outputs": [],
   "source": [
    "def grab_fun(email):\n",
    "    return (email.split('@')[-1])"
   ]
  },
  {
   "cell_type": "code",
   "execution_count": 25,
   "id": "7d48dfc9",
   "metadata": {},
   "outputs": [
    {
     "data": {
      "text/plain": [
       "'gmail.com'"
      ]
     },
     "execution_count": 25,
     "metadata": {},
     "output_type": "execute_result"
    }
   ],
   "source": [
    "grab_fun('gauraoc@gmail.com')"
   ]
  },
  {
   "cell_type": "code",
   "execution_count": 26,
   "id": "58d4d76c",
   "metadata": {},
   "outputs": [
    {
     "data": {
      "text/plain": [
       "\"\\n** Create a basic function that returns True if the word 'dog' is contained in the input string. \\nDon't worry about edge cases like a punctuation being attached to the word dog, but do account for capitalization. **\\n\""
      ]
     },
     "execution_count": 26,
     "metadata": {},
     "output_type": "execute_result"
    }
   ],
   "source": [
    "\"\"\"\n",
    "** Create a basic function that returns True if the word 'dog' is contained in the input string. \n",
    "Don't worry about edge cases like a punctuation being attached to the word dog, but do account for capitalization. **\n",
    "\"\"\""
   ]
  },
  {
   "cell_type": "code",
   "execution_count": 27,
   "id": "c9f39e7d",
   "metadata": {},
   "outputs": [],
   "source": [
    "def count_dog(s):\n",
    "    count=0\n",
    "    for v in s.lower().split():\n",
    "        if v=='dog':\n",
    "            count +=1\n",
    "    return count"
   ]
  },
  {
   "cell_type": "code",
   "execution_count": 29,
   "id": "4d3861aa",
   "metadata": {},
   "outputs": [
    {
     "data": {
      "text/plain": [
       "2"
      ]
     },
     "execution_count": 29,
     "metadata": {},
     "output_type": "execute_result"
    }
   ],
   "source": [
    "count_dog(\"this Dog is better than this dog\")"
   ]
  },
  {
   "cell_type": "code",
   "execution_count": 30,
   "id": "4183f5f4",
   "metadata": {},
   "outputs": [
    {
     "data": {
      "text/plain": [
       "\"\\n** Use lambda expressions and the filter() function to filter out words from a list that don't start with the letter 's'.\\n\""
      ]
     },
     "execution_count": 30,
     "metadata": {},
     "output_type": "execute_result"
    }
   ],
   "source": [
    "\"\"\"\n",
    "** Use lambda expressions and the filter() function to filter out words from a list that don't start with the letter 's'.\n",
    "\"\"\""
   ]
  },
  {
   "cell_type": "code",
   "execution_count": 40,
   "id": "a41567f2",
   "metadata": {},
   "outputs": [],
   "source": [
    "seq = ['soup','dog','salad','cat','great']"
   ]
  },
  {
   "cell_type": "code",
   "execution_count": 45,
   "id": "be60bb1e",
   "metadata": {},
   "outputs": [
    {
     "data": {
      "text/plain": [
       "['soup', 'dog', 'salad', 'cat', 'great']"
      ]
     },
     "execution_count": 45,
     "metadata": {},
     "output_type": "execute_result"
    }
   ],
   "source": [
    "seq"
   ]
  },
  {
   "cell_type": "code",
   "execution_count": 46,
   "id": "e5ececcb",
   "metadata": {},
   "outputs": [],
   "source": [
    "lst1=lambda x:x[0]!='s'"
   ]
  },
  {
   "cell_type": "code",
   "execution_count": 47,
   "id": "5d99b55c",
   "metadata": {},
   "outputs": [
    {
     "data": {
      "text/plain": [
       "<function __main__.<lambda>(x)>"
      ]
     },
     "execution_count": 47,
     "metadata": {},
     "output_type": "execute_result"
    }
   ],
   "source": [
    "lst1"
   ]
  },
  {
   "cell_type": "code",
   "execution_count": 50,
   "id": "70323bf6",
   "metadata": {},
   "outputs": [
    {
     "ename": "TypeError",
     "evalue": "'filter' object is not subscriptable",
     "output_type": "error",
     "traceback": [
      "\u001b[1;31m---------------------------------------------------------------------------\u001b[0m",
      "\u001b[1;31mTypeError\u001b[0m                                 Traceback (most recent call last)",
      "Input \u001b[1;32mIn [50]\u001b[0m, in \u001b[0;36m<cell line: 1>\u001b[1;34m()\u001b[0m\n\u001b[1;32m----> 1\u001b[0m \u001b[38;5;28;43mlist\u001b[39;49m\u001b[43m \u001b[49m\u001b[43m(\u001b[49m\u001b[38;5;28;43mfilter\u001b[39;49m\u001b[43m(\u001b[49m\u001b[43mlst1\u001b[49m\u001b[43m,\u001b[49m\u001b[43mseq\u001b[49m\u001b[43m)\u001b[49m\u001b[43m)\u001b[49m\n",
      "Input \u001b[1;32mIn [32]\u001b[0m, in \u001b[0;36m<lambda>\u001b[1;34m(x)\u001b[0m\n\u001b[1;32m----> 1\u001b[0m \u001b[38;5;28mlist\u001b[39m\u001b[38;5;241m=\u001b[39m\u001b[38;5;28;01mlambda\u001b[39;00m x:\u001b[43mx\u001b[49m\u001b[43m[\u001b[49m\u001b[38;5;241;43m0\u001b[39;49m\u001b[43m]\u001b[49m\u001b[38;5;241m!=\u001b[39m\u001b[38;5;124m'\u001b[39m\u001b[38;5;124ms\u001b[39m\u001b[38;5;124m'\u001b[39m\n",
      "\u001b[1;31mTypeError\u001b[0m: 'filter' object is not subscriptable"
     ]
    }
   ],
   "source": [
    "list(filter(lst1,seq))"
   ]
  },
  {
   "cell_type": "code",
   "execution_count": 2,
   "id": "0c89da30",
   "metadata": {},
   "outputs": [
    {
     "data": {
      "text/plain": [
       "'\\nWrite a python function to find and display the five \\ndigit number in which the first digit is two more than \\nthe second,the second digit is two more than the third,\\nthe fourth digit is two less than the third, and the \\nlast digit is two more than\\nthe fourth.The sum of the third,fourth and fifth digits\\nequals the first.The sum of all the digits is 19\\n'"
      ]
     },
     "execution_count": 2,
     "metadata": {},
     "output_type": "execute_result"
    }
   ],
   "source": [
    "'''\n",
    "Write a python function to find and display the five \n",
    "digit number in which the first digit is two more than \n",
    "the second,the second digit is two more than the third,\n",
    "the fourth digit is two less than the third, and the \n",
    "last digit is two more than\n",
    "the fourth.The sum of the third,fourth and fifth digits\n",
    "equals the first.The sum of all the digits is 19\n",
    "'''"
   ]
  },
  {
   "cell_type": "code",
   "execution_count": 3,
   "id": "d109daea",
   "metadata": {},
   "outputs": [],
   "source": [
    "def find_five_no():\n",
    "    for i in range(9,0,-1):\n",
    "        first=i\n",
    "        second=i-2\n",
    "        third=i-4\n",
    "        fourth=i-6\n",
    "        fifth=i-4\n",
    "        if third+fourth+fifth==first:\n",
    "            if (first+second+third+fourth+fifth)==19:\n",
    "                return(int(str(first)+str(second)+str(third)+str(fourth)+str(fifth)))"
   ]
  },
  {
   "cell_type": "code",
   "execution_count": 4,
   "id": "ceac1bd6",
   "metadata": {},
   "outputs": [
    {
     "data": {
      "text/plain": [
       "75313"
      ]
     },
     "execution_count": 4,
     "metadata": {},
     "output_type": "execute_result"
    }
   ],
   "source": [
    "find_five_no()"
   ]
  },
  {
   "cell_type": "code",
   "execution_count": 5,
   "id": "050940a0",
   "metadata": {},
   "outputs": [
    {
     "data": {
      "text/plain": [
       "'C:\\\\Users\\\\Dr. Rahul Chaudhary'"
      ]
     },
     "execution_count": 5,
     "metadata": {},
     "output_type": "execute_result"
    }
   ],
   "source": [
    "pwd"
   ]
  },
  {
   "cell_type": "code",
   "execution_count": 51,
   "id": "4490a2da",
   "metadata": {},
   "outputs": [
    {
     "data": {
      "text/plain": [
       "'\\n*You are driving a little too fast, and a police officer stops you. Write a function to return one of 3 possible results: \"No ticket\", \"Small ticket\", or \"Big Ticket\". If your speed is 60 or less, the result is \"No Ticket\". If speed is between 61 and 80 inclusive, the result is \"Small Ticket\". If speed is 81 or more, the result is \"Big Ticket\". Unless it is your birthday (encoded as a boolean value in the parameters of the function) -- on your birthday, your speed can be 5 higher in all cases. *\\n'"
      ]
     },
     "execution_count": 51,
     "metadata": {},
     "output_type": "execute_result"
    }
   ],
   "source": [
    "\"\"\"\n",
    "*You are driving a little too fast, and a police officer stops you. Write a function to return one of 3 possible results: \"No ticket\", \"Small ticket\", or \"Big Ticket\". If your speed is 60 or less, the result is \"No Ticket\". If speed is between 61 and 80 inclusive, the result is \"Small Ticket\". If speed is 81 or more, the result is \"Big Ticket\". Unless it is your birthday (encoded as a boolean value in the parameters of the function) -- on your birthday, your speed can be 5 higher in all cases. *\n",
    "\"\"\""
   ]
  },
  {
   "cell_type": "code",
   "execution_count": 52,
   "id": "4cef24d6",
   "metadata": {},
   "outputs": [],
   "source": [
    "def speed_catch(speed,birthday):\n",
    "    if birthday:\n",
    "        new_speed=speed-5\n",
    "    else:\n",
    "        new_speed=speed\n",
    "    if new_speed>80:\n",
    "        print('Big Ticket')\n",
    "    elif new_speed>60:\n",
    "        print('Small Ticket')\n",
    "    else:\n",
    "        print('No Ticket')"
   ]
  },
  {
   "cell_type": "code",
   "execution_count": 54,
   "id": "03b1e264",
   "metadata": {},
   "outputs": [
    {
     "name": "stdout",
     "output_type": "stream",
     "text": [
      "No Ticket\n"
     ]
    }
   ],
   "source": [
    "speed_catch(64,True)"
   ]
  },
  {
   "cell_type": "code",
   "execution_count": 55,
   "id": "270d3612",
   "metadata": {},
   "outputs": [
    {
     "name": "stdout",
     "output_type": "stream",
     "text": [
      "Small Ticket\n"
     ]
    }
   ],
   "source": [
    "speed_catch(76,True)"
   ]
  },
  {
   "cell_type": "code",
   "execution_count": 56,
   "id": "3ba5c460",
   "metadata": {},
   "outputs": [
    {
     "data": {
      "text/plain": [
       "\"\\nQuestion\\nGiven a string print number num by extracting all the\\ndigits from the string as in string\\nPrint negative number if the first character in \\nstring is '-'\\n\""
      ]
     },
     "execution_count": 56,
     "metadata": {},
     "output_type": "execute_result"
    }
   ],
   "source": [
    "\"\"\"\n",
    "Question\n",
    "Given a string print number num by extracting all the\n",
    "digits from the string as in string\n",
    "Print negative number if the first character in \n",
    "string is '-'\n",
    "\"\"\""
   ]
  },
  {
   "cell_type": "code",
   "execution_count": 57,
   "id": "229680ff",
   "metadata": {},
   "outputs": [
    {
     "name": "stdout",
     "output_type": "stream",
     "text": [
      "Enter the input-dhjcbn7655432cbshjc98876\n",
      "-765543298876\n"
     ]
    }
   ],
   "source": [
    "s=input(\"Enter the input\")\n",
    "num=\"\"\n",
    "a=[0,1,2,3,4,5,6,7,8,9]\n",
    "if s[0]==\"-\":\n",
    "    num=num+s[0]\n",
    "for c in s:\n",
    "    if c in str(a):\n",
    "        num=num+c\n",
    "print(num)"
   ]
  },
  {
   "cell_type": "code",
   "execution_count": 58,
   "id": "85cf023f",
   "metadata": {},
   "outputs": [
    {
     "data": {
      "text/plain": [
       "'\\nWAP to check whether a number is palindrome or not on following conditions.\\n1. take input number\\n2. add number and its reverse\\n3. check that number is palindrome or not,if not then sum and its reverse\\n'"
      ]
     },
     "execution_count": 58,
     "metadata": {},
     "output_type": "execute_result"
    }
   ],
   "source": [
    "\"\"\"\n",
    "WAP to check whether a number is palindrome or not on following conditions.\n",
    "1. take input number\n",
    "2. add number and its reverse\n",
    "3. check that number is palindrome or not,if not then sum and its reverse\n",
    "\"\"\""
   ]
  },
  {
   "cell_type": "code",
   "execution_count": 60,
   "id": "5e860013",
   "metadata": {},
   "outputs": [
    {
     "name": "stdout",
     "output_type": "stream",
     "text": [
      "Enter the Number: 88\n",
      "Number is:  847\n",
      "Reverse is:  748\n",
      "Number is:  1595\n",
      "Reverse is:  5951\n",
      "Number is:  7546\n",
      "Reverse is:  6457\n",
      "Number is:  14003\n",
      "Reverse is:  30041\n",
      "Number is:  44044\n",
      "Reverse is:  44044\n",
      "Palindrome is:  44044\n"
     ]
    }
   ],
   "source": [
    "num1=input('Enter the Number: ')\n",
    "num2=int(num1[::-1])\n",
    "num3=str(int(num1)+num2)\n",
    "while num3!=num3[::-1]:\n",
    "    num3=str(int(num3)+int(num3[::-1]))\n",
    "    print(\"Number is: \", num3)\n",
    "    print(\"Reverse is: \", num3[::-1])\n",
    "print(\"Palindrome is: \",num3)"
   ]
  },
  {
   "cell_type": "code",
   "execution_count": 61,
   "id": "946b3378",
   "metadata": {},
   "outputs": [
    {
     "data": {
      "text/plain": [
       "'\\nWrite a python function to find and display the five \\ndigit number in which the first digit is two more than \\nthe second,the second digit is two more than the third,\\nthe fourth digit is two less than the third, and the \\nlast digit is two more than\\nthe fourth.The sum of the third,fourth and fifth digits\\nequals the first.The sum of all the digits is 19\\n'"
      ]
     },
     "execution_count": 61,
     "metadata": {},
     "output_type": "execute_result"
    }
   ],
   "source": [
    "\"\"\"\n",
    "Write a python function to find and display the five \n",
    "digit number in which the first digit is two more than \n",
    "the second,the second digit is two more than the third,\n",
    "the fourth digit is two less than the third, and the \n",
    "last digit is two more than\n",
    "the fourth.The sum of the third,fourth and fifth digits\n",
    "equals the first.The sum of all the digits is 19\n",
    "\"\"\""
   ]
  },
  {
   "cell_type": "code",
   "execution_count": 62,
   "id": "ac5f16e2",
   "metadata": {},
   "outputs": [],
   "source": [
    "def find_five_no():\n",
    "    for i in range(9,0,-1):\n",
    "        first=i\n",
    "        second=i-2\n",
    "        third=i-4\n",
    "        fourth=i-6\n",
    "        fifth=i-4\n",
    "        if third+fourth+fifth==first:\n",
    "            if (first+second+third+fourth+fifth)==19:\n",
    "                return(int(str(first)+str(second)+str(third)+str(fourth)+str(fifth)))"
   ]
  },
  {
   "cell_type": "code",
   "execution_count": 63,
   "id": "2771c9b0",
   "metadata": {},
   "outputs": [
    {
     "data": {
      "text/plain": [
       "75313"
      ]
     },
     "execution_count": 63,
     "metadata": {},
     "output_type": "execute_result"
    }
   ],
   "source": [
    "find_five_no()"
   ]
  }
 ],
 "metadata": {
  "kernelspec": {
   "display_name": "Python 3 (ipykernel)",
   "language": "python",
   "name": "python3"
  },
  "language_info": {
   "codemirror_mode": {
    "name": "ipython",
    "version": 3
   },
   "file_extension": ".py",
   "mimetype": "text/x-python",
   "name": "python",
   "nbconvert_exporter": "python",
   "pygments_lexer": "ipython3",
   "version": "3.9.12"
  }
 },
 "nbformat": 4,
 "nbformat_minor": 5
}
